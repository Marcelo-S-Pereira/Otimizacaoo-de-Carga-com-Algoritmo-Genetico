{
 "cells": [
  {
   "cell_type": "markdown",
   "id": "08634a5f",
   "metadata": {},
   "source": [
    "## Otimização de Carga com Algoritmo Genético"
   ]
  },
  {
   "cell_type": "markdown",
   "id": "0043ffd0",
   "metadata": {},
   "source": [
    "Importando bibliotecas"
   ]
  },
  {
   "cell_type": "code",
   "execution_count": 7,
   "id": "2610e745",
   "metadata": {},
   "outputs": [
    {
     "name": "stdout",
     "output_type": "stream",
     "text": [
      "Requirement already satisfied: geneticalgorithm in c:\\users\\cla_m\\appdata\\local\\programs\\python\\python313\\lib\\site-packages (1.0.2)\n",
      "Requirement already satisfied: func-timeout in c:\\users\\cla_m\\appdata\\local\\programs\\python\\python313\\lib\\site-packages (from geneticalgorithm) (4.3.5)\n",
      "Requirement already satisfied: numpy in c:\\users\\cla_m\\appdata\\local\\programs\\python\\python313\\lib\\site-packages (from geneticalgorithm) (2.2.0)\n"
     ]
    },
    {
     "name": "stderr",
     "output_type": "stream",
     "text": [
      "\n",
      "[notice] A new release of pip is available: 25.0.1 -> 25.1.1\n",
      "[notice] To update, run: python.exe -m pip install --upgrade pip\n"
     ]
    }
   ],
   "source": [
    "!pip install geneticalgorithm"
   ]
  },
  {
   "cell_type": "code",
   "execution_count": 8,
   "id": "fd95aeff",
   "metadata": {},
   "outputs": [],
   "source": [
    "import pandas as pd\n",
    "from geneticalgorithm import geneticalgorithm as ga"
   ]
  },
  {
   "cell_type": "markdown",
   "id": "f32f4896",
   "metadata": {},
   "source": [
    "Data"
   ]
  },
  {
   "cell_type": "code",
   "execution_count": 9,
   "id": "0de94758",
   "metadata": {},
   "outputs": [
    {
     "data": {
      "text/html": [
       "<div>\n",
       "<style scoped>\n",
       "    .dataframe tbody tr th:only-of-type {\n",
       "        vertical-align: middle;\n",
       "    }\n",
       "\n",
       "    .dataframe tbody tr th {\n",
       "        vertical-align: top;\n",
       "    }\n",
       "\n",
       "    .dataframe thead th {\n",
       "        text-align: right;\n",
       "    }\n",
       "</style>\n",
       "<table border=\"1\" class=\"dataframe\">\n",
       "  <thead>\n",
       "    <tr style=\"text-align: right;\">\n",
       "      <th></th>\n",
       "      <th>ID</th>\n",
       "      <th>PESO</th>\n",
       "      <th>VALOR</th>\n",
       "      <th>VOLUME</th>\n",
       "    </tr>\n",
       "  </thead>\n",
       "  <tbody>\n",
       "    <tr>\n",
       "      <th>0</th>\n",
       "      <td>1</td>\n",
       "      <td>342</td>\n",
       "      <td>1136</td>\n",
       "      <td>32</td>\n",
       "    </tr>\n",
       "    <tr>\n",
       "      <th>1</th>\n",
       "      <td>2</td>\n",
       "      <td>305</td>\n",
       "      <td>5349</td>\n",
       "      <td>48</td>\n",
       "    </tr>\n",
       "    <tr>\n",
       "      <th>2</th>\n",
       "      <td>3</td>\n",
       "      <td>442</td>\n",
       "      <td>8487</td>\n",
       "      <td>26</td>\n",
       "    </tr>\n",
       "    <tr>\n",
       "      <th>3</th>\n",
       "      <td>4</td>\n",
       "      <td>944</td>\n",
       "      <td>4190</td>\n",
       "      <td>25</td>\n",
       "    </tr>\n",
       "    <tr>\n",
       "      <th>4</th>\n",
       "      <td>5</td>\n",
       "      <td>881</td>\n",
       "      <td>6644</td>\n",
       "      <td>47</td>\n",
       "    </tr>\n",
       "    <tr>\n",
       "      <th>5</th>\n",
       "      <td>6</td>\n",
       "      <td>183</td>\n",
       "      <td>3068</td>\n",
       "      <td>15</td>\n",
       "    </tr>\n",
       "    <tr>\n",
       "      <th>6</th>\n",
       "      <td>7</td>\n",
       "      <td>315</td>\n",
       "      <td>6675</td>\n",
       "      <td>40</td>\n",
       "    </tr>\n",
       "    <tr>\n",
       "      <th>7</th>\n",
       "      <td>8</td>\n",
       "      <td>450</td>\n",
       "      <td>5529</td>\n",
       "      <td>27</td>\n",
       "    </tr>\n",
       "    <tr>\n",
       "      <th>8</th>\n",
       "      <td>9</td>\n",
       "      <td>111</td>\n",
       "      <td>5905</td>\n",
       "      <td>40</td>\n",
       "    </tr>\n",
       "    <tr>\n",
       "      <th>9</th>\n",
       "      <td>10</td>\n",
       "      <td>676</td>\n",
       "      <td>7936</td>\n",
       "      <td>50</td>\n",
       "    </tr>\n",
       "    <tr>\n",
       "      <th>10</th>\n",
       "      <td>11</td>\n",
       "      <td>255</td>\n",
       "      <td>4307</td>\n",
       "      <td>16</td>\n",
       "    </tr>\n",
       "    <tr>\n",
       "      <th>11</th>\n",
       "      <td>12</td>\n",
       "      <td>515</td>\n",
       "      <td>8568</td>\n",
       "      <td>23</td>\n",
       "    </tr>\n",
       "    <tr>\n",
       "      <th>12</th>\n",
       "      <td>13</td>\n",
       "      <td>545</td>\n",
       "      <td>4498</td>\n",
       "      <td>24</td>\n",
       "    </tr>\n",
       "    <tr>\n",
       "      <th>13</th>\n",
       "      <td>14</td>\n",
       "      <td>909</td>\n",
       "      <td>8542</td>\n",
       "      <td>32</td>\n",
       "    </tr>\n",
       "    <tr>\n",
       "      <th>14</th>\n",
       "      <td>15</td>\n",
       "      <td>178</td>\n",
       "      <td>5084</td>\n",
       "      <td>39</td>\n",
       "    </tr>\n",
       "    <tr>\n",
       "      <th>15</th>\n",
       "      <td>16</td>\n",
       "      <td>410</td>\n",
       "      <td>9620</td>\n",
       "      <td>16</td>\n",
       "    </tr>\n",
       "    <tr>\n",
       "      <th>16</th>\n",
       "      <td>17</td>\n",
       "      <td>10</td>\n",
       "      <td>1749</td>\n",
       "      <td>32</td>\n",
       "    </tr>\n",
       "    <tr>\n",
       "      <th>17</th>\n",
       "      <td>18</td>\n",
       "      <td>57</td>\n",
       "      <td>6638</td>\n",
       "      <td>49</td>\n",
       "    </tr>\n",
       "    <tr>\n",
       "      <th>18</th>\n",
       "      <td>19</td>\n",
       "      <td>753</td>\n",
       "      <td>9623</td>\n",
       "      <td>20</td>\n",
       "    </tr>\n",
       "    <tr>\n",
       "      <th>19</th>\n",
       "      <td>20</td>\n",
       "      <td>924</td>\n",
       "      <td>2061</td>\n",
       "      <td>48</td>\n",
       "    </tr>\n",
       "  </tbody>\n",
       "</table>\n",
       "</div>"
      ],
      "text/plain": [
       "    ID  PESO  VALOR  VOLUME\n",
       "0    1   342   1136      32\n",
       "1    2   305   5349      48\n",
       "2    3   442   8487      26\n",
       "3    4   944   4190      25\n",
       "4    5   881   6644      47\n",
       "5    6   183   3068      15\n",
       "6    7   315   6675      40\n",
       "7    8   450   5529      27\n",
       "8    9   111   5905      40\n",
       "9   10   676   7936      50\n",
       "10  11   255   4307      16\n",
       "11  12   515   8568      23\n",
       "12  13   545   4498      24\n",
       "13  14   909   8542      32\n",
       "14  15   178   5084      39\n",
       "15  16   410   9620      16\n",
       "16  17    10   1749      32\n",
       "17  18    57   6638      49\n",
       "18  19   753   9623      20\n",
       "19  20   924   2061      48"
      ]
     },
     "execution_count": 9,
     "metadata": {},
     "output_type": "execute_result"
    }
   ],
   "source": [
    "data = pd.read_csv(\"Itens.csv\", sep=\";\")\n",
    "data"
   ]
  },
  {
   "cell_type": "markdown",
   "id": "5dede410",
   "metadata": {},
   "source": [
    "Summary Statistics: basic view"
   ]
  },
  {
   "cell_type": "code",
   "execution_count": 10,
   "id": "f8d1eb36",
   "metadata": {},
   "outputs": [
    {
     "name": "stdout",
     "output_type": "stream",
     "text": [
      "reg: 20\n",
      "sum_weight:9205\n",
      "sum_vol649\n",
      "sum_value115609\n"
     ]
    }
   ],
   "source": [
    "print(f\"reg: {len(data)}\")\n",
    "print(f\"sum_weight:{data['PESO'].sum()}\")\n",
    "print(f\"sum_vol{data['VOLUME'].sum()}\")\n",
    "print(f\"sum_value{data['VALOR'].sum()}\")"
   ]
  },
  {
   "cell_type": "markdown",
   "id": "76b95bca",
   "metadata": {},
   "source": [
    "Variables: Constraints"
   ]
  },
  {
   "cell_type": "code",
   "execution_count": 11,
   "id": "21757c01",
   "metadata": {},
   "outputs": [],
   "source": [
    "max_weight = 6000\n",
    "max_volume = 350\n",
    "max_iterations = 10\n",
    "\n"
   ]
  }
 ],
 "metadata": {
  "kernelspec": {
   "display_name": "Python 3",
   "language": "python",
   "name": "python3"
  },
  "language_info": {
   "codemirror_mode": {
    "name": "ipython",
    "version": 3
   },
   "file_extension": ".py",
   "mimetype": "text/x-python",
   "name": "python",
   "nbconvert_exporter": "python",
   "pygments_lexer": "ipython3",
   "version": "3.13.0"
  }
 },
 "nbformat": 4,
 "nbformat_minor": 5
}

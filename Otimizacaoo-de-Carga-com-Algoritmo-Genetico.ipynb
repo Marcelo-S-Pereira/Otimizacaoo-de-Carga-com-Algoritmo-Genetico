{
 "cells": [
  {
   "cell_type": "markdown",
   "id": "08634a5f",
   "metadata": {},
   "source": [
    "## Otimização de Carga com Algoritmo Genético"
   ]
  },
  {
   "cell_type": "markdown",
   "id": "0043ffd0",
   "metadata": {},
   "source": [
    "Importando bibliotecas"
   ]
  },
  {
   "cell_type": "code",
   "execution_count": null,
   "id": "2610e745",
   "metadata": {},
   "outputs": [
    {
     "name": "stdout",
     "output_type": "stream",
     "text": [
      "Requirement already satisfied: geneticalgorithm in c:\\users\\cla_m\\appdata\\local\\programs\\python\\python313\\lib\\site-packages (1.0.2)\n",
      "Requirement already satisfied: func-timeout in c:\\users\\cla_m\\appdata\\local\\programs\\python\\python313\\lib\\site-packages (from geneticalgorithm) (4.3.5)\n",
      "Requirement already satisfied: numpy in c:\\users\\cla_m\\appdata\\local\\programs\\python\\python313\\lib\\site-packages (from geneticalgorithm) (2.2.0)\n"
     ]
    },
    {
     "name": "stderr",
     "output_type": "stream",
     "text": [
      "\n",
      "[notice] A new release of pip is available: 25.0.1 -> 25.1.1\n",
      "[notice] To update, run: python.exe -m pip install --upgrade pip\n"
     ]
    }
   ],
   "source": [
    "!pip install geneticalgorithm"
   ]
  },
  {
   "cell_type": "code",
   "execution_count": 3,
   "id": "fd95aeff",
   "metadata": {},
   "outputs": [],
   "source": [
    "import pandas as pd\n",
    "from geneticalgorithm import geneticalgorithm as ga"
   ]
  },
  {
   "cell_type": "code",
   "execution_count": null,
   "id": "55f807ec",
   "metadata": {},
   "outputs": [],
   "source": []
  }
 ],
 "metadata": {
  "kernelspec": {
   "display_name": "Python 3",
   "language": "python",
   "name": "python3"
  },
  "language_info": {
   "codemirror_mode": {
    "name": "ipython",
    "version": 3
   },
   "file_extension": ".py",
   "mimetype": "text/x-python",
   "name": "python",
   "nbconvert_exporter": "python",
   "pygments_lexer": "ipython3",
   "version": "3.13.0"
  }
 },
 "nbformat": 4,
 "nbformat_minor": 5
}
